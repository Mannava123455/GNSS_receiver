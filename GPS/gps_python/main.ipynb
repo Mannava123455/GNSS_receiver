{
 "cells": [
  {
   "cell_type": "code",
   "execution_count": 25,
   "metadata": {},
   "outputs": [],
   "source": [
    "import numpy as np\n",
    "import scipy.constants as sciconst\n",
    "import matplotlib.pyplot as plt\n",
    "import gpssim as navs"
   ]
  },
  {
   "attachments": {},
   "cell_type": "markdown",
   "metadata": {},
   "source": [
    "## Simulation constants "
   ]
  },
  {
   "cell_type": "code",
   "execution_count": 26,
   "metadata": {},
   "outputs": [],
   "source": [
    "codeFreqBasis = 1.023e6\n",
    "sampleRate = 2.04e6\n",
    "samplePeriod = 1/sampleRate\n",
    "\n",
    "codeTable = navs.genGpsCaTable(sampleRate)\n",
    "codeTableSampCnt = len(codeTable)\n",
    "# [3 6 7 16 18 19 21 22 30]\n",
    "satId = np.arange(1,32+1)\n",
    "numChannel = len(satId)"
   ]
  },
  {
   "cell_type": "code",
   "execution_count": 27,
   "metadata": {},
   "outputs": [],
   "source": [
    "acqIntegTime = 4e-3\n",
    "\n",
    "PLLIntegrationTime = 1e-3\n",
    "PLLNoiseBandwidth = 90 # In Hz\n",
    "FLLNoiseBandwidth = 4  # In Hz\n",
    "DLLNoiseBandwidth = 1  # In Hz"
   ]
  },
  {
   "attachments": {},
   "cell_type": "markdown",
   "metadata": {},
   "source": [
    "## Read sample file"
   ]
  },
  {
   "cell_type": "code",
   "execution_count": 28,
   "metadata": {},
   "outputs": [
    {
     "name": "stdout",
     "output_type": "stream",
     "text": [
      "[ 40.-17.j  28. +2.j  17. -1.j ...   9.-12.j -19.-11.j -14. -6.j]\n",
      "1.9074509803921569 1907\n"
     ]
    }
   ],
   "source": [
    "cevafile = \"/home/mannava/gps_sdr/gps-sdr-sim/gpssim.bin\"\n",
    "data = np.fromfile(cevafile, dtype=np.int8)\n",
    "data_I = data[0::2]; data_Q = data[1::2]\n",
    "data = data_I + 1j*data_Q\n",
    "print(data)\n",
    "\n",
    "simDuration = len(data)/sampleRate\n",
    "timeStep = PLLIntegrationTime\n",
    "numSteps = round(simDuration/timeStep)\n",
    "samplePerStep = round(timeStep/samplePeriod)\n",
    "\n",
    "print(simDuration, numSteps)"
   ]
  },
  {
   "attachments": {},
   "cell_type": "markdown",
   "metadata": {},
   "source": [
    "## Run Simulation"
   ]
  },
  {
   "cell_type": "code",
   "execution_count": null,
   "metadata": {},
   "outputs": [],
   "source": [
    "state = \"ACQ\"\n",
    "\n",
    "for istep in range(numSteps):\n",
    "\n",
    "    waveform = data[istep*samplePerStep: (istep+1)*samplePerStep]\n",
    "    \n",
    "    # Perform acquisition once from cold-start\n",
    "    if (istep+1)*timeStep >= acqIntegTime and state == \"ACQ\":\n",
    "        acqBuffer = data[0: (istep+1)*samplePerStep]\n",
    "        acqBufferLen = len(acqBuffer)\n",
    "\n",
    "        # Acqusition doppler search space\n",
    "        fMin = -25000\n",
    "        fMax = 25000\n",
    "        fStep = 200\n",
    "        fSearch = np.arange(fMin, fMax+fStep, fStep)\n",
    "\n",
    "        tracker = []\n",
    "        satVis = 0\n",
    "        \n",
    "        # Perform acquisition for each satellite\n",
    "        for prnId in satId:\n",
    "            status, codePhase, doppler, peakMetric = navs.navic_pcps_acquisition(\n",
    "                                            acqBuffer, \n",
    "                                            codeTable[np.arange(0, acqBufferLen)%codeTableSampCnt, prnId-1], \n",
    "                                            sampleRate, \n",
    "                                            fSearch,\n",
    "                                            threshold=2,\n",
    "                                            relative_peak=True\n",
    "                                        )   \n",
    "            delaySamp = codePhase\n",
    "            codePhase = (codePhase % codeTableSampCnt)/(sampleRate/codeFreqBasis)\n",
    "\n",
    "            if(status):\n",
    "                print(f\"Acquisition results for PRN ID {prnId}\\n Status:{status} Doppler:{doppler} Delay/Code-Phase:{delaySamp}/{codePhase} Peak-Metric:{peakMetric}\")\n",
    "\n",
    "            state = \"TRK\"\n",
    "\n",
    "            # If a satellite is visible, initialize tracking loop\n",
    "            if(status == True):\n",
    "                satVis += 1\n",
    "\n",
    "                tracker.append(navs.NavicTracker())\n",
    "                tracker[-1].SampleRate = sampleRate\n",
    "                tracker[-1].CenterFrequency = 0\n",
    "                tracker[-1].PLLNoiseBandwidth = PLLNoiseBandwidth\n",
    "                tracker[-1].FLLNoiseBandwidth = FLLNoiseBandwidth\n",
    "                tracker[-1].DLLNoiseBandwidth = DLLNoiseBandwidth\n",
    "                tracker[-1].PLLIntegrationTime = round(PLLIntegrationTime*1e3)\n",
    "                tracker[-1].PRNID = prnId\n",
    "                tracker[-1].InitialDopplerShift = doppler\n",
    "                tracker[-1].InitialCodePhaseOffset = codePhase\n",
    "                tracker[-1].setupImpl()\n",
    "                tracker[-1].resetImpl()\n",
    "\n",
    "            trackDataShape = (numSteps*round(PLLIntegrationTime*1e3), satVis)\n",
    "            y = np.empty(trackDataShape, dtype=np.complex_)\n",
    "            fqyerr = np.empty(trackDataShape)\n",
    "            fqynco = np.empty(trackDataShape)\n",
    "            pherr = np.empty(trackDataShape)\n",
    "            phnco = np.empty(trackDataShape)\n",
    "            delayerr = np.empty(trackDataShape)\n",
    "            delaynco = np.empty(trackDataShape)\n",
    "\n",
    "    # Perform tracking for visible satellites\n",
    "    if(state == \"TRK\"):\n",
    "        for i in range(satVis):\n",
    "            y[istep, i], fqyerr[istep, i], fqynco[istep, i], pherr[istep, i], phnco[istep, i], delayerr[istep, i], delaynco[istep, i] = tracker[i].stepImpl(waveform)\n",
    "        plt.subplot(6,1,1)\n",
    "        plt.plot(fqyerr[:,i])\n",
    "        #plt.ylim([0,0.05])\n",
    "        plt.xlabel('time') ; plt.ylabel('Fqy Error')\n",
    "    \n",
    "        plt.subplot(6,1,2)\n",
    "        plt.plot(fqynco[:,i])\n",
    "        #plt.ylim([0,0.05])\n",
    "        plt.xlabel('time') ; plt.ylabel('Fqy NCO')\n",
    "\n",
    "        plt.subplot(6,1,3)\n",
    "        plt.plot(pherr[:,i])\n",
    "        #plt.ylim([0,0.05])\n",
    "        plt.xlabel('time') ; plt.ylabel('Phase Error')\n",
    "\n",
    "        plt.subplot(6,1,4)\n",
    "        plt.plot(phnco[:,i])\n",
    "        #plt.ylim([0,0.05])\n",
    "        plt.xlabel('time') ; plt.ylabel('Phase NCO')\n",
    "\n",
    "        \n",
    "        plt.subplot(6,1,5)\n",
    "        plt.plot(delayerr[:,i])\n",
    "        #plt.ylim([0,0.05])\n",
    "        plt.xlabel('time') ; plt.ylabel('Delay Error')\n",
    "    \n",
    "        plt.subplot(6,1,6)\n",
    "        plt.plot(delaynco[:,i])\n",
    "        #plt.ylim([0,0.05])\n",
    "        plt.xlabel('time') ; plt.ylabel('Delay NCO')"
   ]
  },
  {
   "attachments": {},
   "cell_type": "markdown",
   "metadata": {},
   "source": [
    "## Tracking Results"
   ]
  },
  {
   "cell_type": "code",
   "execution_count": null,
   "metadata": {},
   "outputs": [],
   "source": [
    "resultId = tracker[0].PRNID\n",
    "satIdx = list(satId).index(resultId)\n",
    "\n",
    "mapbit = lambda y: np.piecewise(np.imag(y), [np.imag(y) < 0, np.imag(y) >= 0], [0, 1])\n",
    "mapbitinv = lambda y: np.piecewise(np.imag(y), [np.imag(y) < 0, np.imag(y) >= 0], [1, 0])\n",
    "\n",
    "print(\"Prompt I branch:\\n\", mapbit(y[:, satIdx]))\n",
    "print(\"Prompt I branch inverted:\\n\", mapbitinv(y[:, satIdx]))\n",
    "\n",
    "plt.plot(mapbit(y[:, satIdx])[:])\n",
    "plt.show()"
   ]
  }
 ],
 "metadata": {
  "kernelspec": {
   "display_name": "Python 3",
   "language": "python",
   "name": "python3"
  },
  "language_info": {
   "codemirror_mode": {
    "name": "ipython",
    "version": 3
   },
   "file_extension": ".py",
   "mimetype": "text/x-python",
   "name": "python",
   "nbconvert_exporter": "python",
   "pygments_lexer": "ipython3",
   "version": "3.10.12"
  },
  "orig_nbformat": 4,
  "vscode": {
   "interpreter": {
    "hash": "916dbcbb3f70747c44a77c7bcd40155683ae19c65e1c03b4aa3499c5328201f1"
   }
  }
 },
 "nbformat": 4,
 "nbformat_minor": 2
}
