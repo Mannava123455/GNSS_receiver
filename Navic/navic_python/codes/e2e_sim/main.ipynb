{
 "cells": [
  {
   "cell_type": "code",
   "execution_count": 19,
   "metadata": {},
   "outputs": [],
   "source": [
    "import numpy as np\n",
    "import matplotlib.pyplot as plt\n",
    "import scipy.constants as sciconst\n",
    "\n",
    "from mpl_toolkits.mplot3d import Axes3D\n",
    "import navicsim as navs\n",
    "\n"
   ]
  },
  {
   "attachments": {},
   "cell_type": "markdown",
   "metadata": {},
   "source": [
    "## Simulation constants "
   ]
  },
  {
   "cell_type": "code",
   "execution_count": 20,
   "metadata": {},
   "outputs": [],
   "source": [
    "codeFreqBasis = 1.023e6\n",
    "sampleRate = 10*codeFreqBasis\n",
    "samplePeriod = 1/sampleRate\n",
    "\n",
    "simDuration = 1 #48 sec for 2400 symbols #in Seconds\n",
    "timeStep = 1e-3\n",
    "numSteps = round(simDuration/timeStep)\n",
    "samplePerStep = int(timeStep/samplePeriod)\n",
    "\n",
    "codeTable = navs.genNavicCaTable(sampleRate)\n",
    "codeTableSampCnt = len(codeTable)\n",
    "satId = np.array([5, 7, 3, 1])\n",
    "numChannel = len(satId)"
   ]
  },
  {
   "cell_type": "code",
   "execution_count": 21,
   "metadata": {},
   "outputs": [],
   "source": [
    "c = sciconst.speed_of_light\n",
    "fe = 1176.45e6;              \n",
    "Dt = 12;                     \n",
    "DtLin = 10*np.log10(Dt)\n",
    "Dr = 4;                      \n",
    "DrLin = 10*np.log10(Dr)\n",
    "Pt = 44.8;                   \n",
    "k = sciconst.Boltzmann;  \n",
    "T = 315;                     \n",
    "rxBW = 40e6;                 \n",
    "Nr = k*T*rxBW;               "
   ]
  },
  {
   "cell_type": "code",
   "execution_count": 22,
   "metadata": {},
   "outputs": [],
   "source": [
    "PLLIntegrationTime = 1e-3\n",
    "PLLNoiseBandwidth = 90 # In Hz\n",
    "FLLNoiseBandwidth = 4  # In Hz\n",
    "DLLNoiseBandwidth = 1  # In Hz"
   ]
  },
  {
   "attachments": {},
   "cell_type": "markdown",
   "metadata": {},
   "source": [
    "## Channel configuration"
   ]
  },
  {
   "cell_type": "code",
   "execution_count": 23,
   "metadata": {},
   "outputs": [],
   "source": [
    "fShift = np.array([3589, 2256, 1596, 2568])\n",
    "channelpfo = navs.PhaseFrequencyOffset(sampleRate)\n",
    "\n",
    "sigDelay = np.array([300.34, 587.21, 425.89, 312.88])\n",
    "dynamicDelayRange = 50\n",
    "staticDelay = np.round(sigDelay - dynamicDelayRange)\n",
    "channelstatd = navs.IntegerDelay(staticDelay)\n",
    "channelvard = navs.FractionalDelay(4, 65535)\n",
    "\n",
    "sqrtPr = np.sqrt(Pt*DtLin*DrLin)*(1/(4*np.pi*(fe+fShift)*sigDelay*samplePeriod))"
   ]
  },
  {
   "attachments": {},
   "cell_type": "markdown",
   "metadata": {},
   "source": [
    "## Run Simulation"
   ]
  },
  {
   "cell_type": "code",
   "execution_count": 24,
   "metadata": {},
   "outputs": [
    {
     "ename": "NameError",
     "evalue": "name 'plt' is not defined",
     "output_type": "error",
     "traceback": [
      "\u001b[0;31m---------------------------------------------------------------------------\u001b[0m",
      "\u001b[0;31mNameError\u001b[0m                                 Traceback (most recent call last)",
      "\u001b[1;32m/home/mannava/gvv/navic_python/codes/e2e_sim/main.ipynb Cell 9\u001b[0m line \u001b[0;36m5\n\u001b[1;32m     <a href='vscode-notebook-cell:/home/mannava/gvv/navic_python/codes/e2e_sim/main.ipynb#X11sZmlsZQ%3D%3D?line=47'>48</a>\u001b[0m \u001b[39m# Perform acquisition for each satellite\u001b[39;00m\n\u001b[1;32m     <a href='vscode-notebook-cell:/home/mannava/gvv/navic_python/codes/e2e_sim/main.ipynb#X11sZmlsZQ%3D%3D?line=48'>49</a>\u001b[0m \u001b[39mfor\u001b[39;00m prnId \u001b[39min\u001b[39;00m satId:\n\u001b[0;32m---> <a href='vscode-notebook-cell:/home/mannava/gvv/navic_python/codes/e2e_sim/main.ipynb#X11sZmlsZQ%3D%3D?line=49'>50</a>\u001b[0m     status, codePhase, doppler \u001b[39m=\u001b[39m navs\u001b[39m.\u001b[39;49mnavic_pcps_acquisition(\n\u001b[1;32m     <a href='vscode-notebook-cell:/home/mannava/gvv/navic_python/codes/e2e_sim/main.ipynb#X11sZmlsZQ%3D%3D?line=50'>51</a>\u001b[0m                                     waveform, \n\u001b[1;32m     <a href='vscode-notebook-cell:/home/mannava/gvv/navic_python/codes/e2e_sim/main.ipynb#X11sZmlsZQ%3D%3D?line=51'>52</a>\u001b[0m                                     codeTable[np\u001b[39m.\u001b[39;49marange(\u001b[39m0\u001b[39;49m, samplePerStep)\u001b[39m%\u001b[39;49mcodeTableSampCnt, prnId\u001b[39m-\u001b[39;49m\u001b[39m1\u001b[39;49m], \n\u001b[1;32m     <a href='vscode-notebook-cell:/home/mannava/gvv/navic_python/codes/e2e_sim/main.ipynb#X11sZmlsZQ%3D%3D?line=52'>53</a>\u001b[0m                                     sampleRate, \n\u001b[1;32m     <a href='vscode-notebook-cell:/home/mannava/gvv/navic_python/codes/e2e_sim/main.ipynb#X11sZmlsZQ%3D%3D?line=53'>54</a>\u001b[0m                                     fSearch\n\u001b[1;32m     <a href='vscode-notebook-cell:/home/mannava/gvv/navic_python/codes/e2e_sim/main.ipynb#X11sZmlsZQ%3D%3D?line=54'>55</a>\u001b[0m                                 )   \n\u001b[1;32m     <a href='vscode-notebook-cell:/home/mannava/gvv/navic_python/codes/e2e_sim/main.ipynb#X11sZmlsZQ%3D%3D?line=55'>56</a>\u001b[0m     delaySamp \u001b[39m=\u001b[39m codePhase\n\u001b[1;32m     <a href='vscode-notebook-cell:/home/mannava/gvv/navic_python/codes/e2e_sim/main.ipynb#X11sZmlsZQ%3D%3D?line=56'>57</a>\u001b[0m     codePhase \u001b[39m=\u001b[39m (codePhase \u001b[39m%\u001b[39m codeTableSampCnt)\u001b[39m/\u001b[39m(sampleRate\u001b[39m/\u001b[39mcodeFreqBasis)\n",
      "File \u001b[0;32m~/gvv/navic_python/codes/e2e_sim/navicsim.py:581\u001b[0m, in \u001b[0;36mnavic_pcps_acquisition\u001b[0;34m(x, prnSeq, fs, fSearch, threshold)\u001b[0m\n\u001b[1;32m    579\u001b[0m time_values \u001b[39m=\u001b[39m np\u001b[39m.\u001b[39marange(K)\n\u001b[1;32m    580\u001b[0m X, Y \u001b[39m=\u001b[39m np\u001b[39m.\u001b[39mmeshgrid(time_values, fSearch)\n\u001b[0;32m--> 581\u001b[0m fig \u001b[39m=\u001b[39m plt\u001b[39m.\u001b[39mfigure()\n\u001b[1;32m    582\u001b[0m ax \u001b[39m=\u001b[39m fig\u001b[39m.\u001b[39madd_subplot(\u001b[39m111\u001b[39m, projection\u001b[39m=\u001b[39m\u001b[39m'\u001b[39m\u001b[39m3d\u001b[39m\u001b[39m'\u001b[39m)\n\u001b[1;32m    583\u001b[0m cmap \u001b[39m=\u001b[39m plt\u001b[39m.\u001b[39mget_cmap(\u001b[39m'\u001b[39m\u001b[39mjet\u001b[39m\u001b[39m'\u001b[39m)  \u001b[39m# You can use other colormaps as well\u001b[39;00m\n",
      "\u001b[0;31mNameError\u001b[0m: name 'plt' is not defined"
     ]
    }
   ],
   "source": [
    "datagen = navs.NavicDataGen(50, sampleRate, numChannel)\n",
    "modulator = navs.NavicL5sModulator(sampleRate)\n",
    "\n",
    "rms = lambda x: np.sqrt(np.mean(np.abs(x)**2, axis=0)) \n",
    "\n",
    "for istep in range(numSteps):\n",
    "    \n",
    "    # Baseband modulation\n",
    "    navdata = datagen.GenerateBits(timeStep)\n",
    "    \n",
    "    iqsig = modulator.Modulate(navdata, codeTable[:, satId-1])\n",
    "\n",
    "    # Doppler shift\n",
    "    doppsig = channelpfo.Offset(iqsig, fShift)\n",
    "\n",
    "    # Delay\n",
    "    staticDelayedSignal = channelstatd.Delay(doppsig)\n",
    "    leftoutDelay = sigDelay - staticDelay\n",
    "    delayedSig = channelvard.Delay(staticDelayedSignal, leftoutDelay)\n",
    "\n",
    "    # Power scaling\n",
    "    scaledSig = navs.PowerScale(delayedSig, sqrtPr)\n",
    "\n",
    "    # Add signals from each channel\n",
    "    resultsig = np.sum(scaledSig, axis=1)\n",
    "\n",
    "    # Generate noise\n",
    "    noisesig = (np.random.normal(scale=Nr**0.5, size=(samplePerStep, )) + 1j*np.random.normal(scale=Nr**0.5, size=(samplePerStep, )))/2**0.5\n",
    "\n",
    "    # Add thermal noise to composite signal\n",
    "    rxwaveform = resultsig + noisesig\n",
    "\n",
    "    # Scale received signal to have unit power\n",
    "    waveform = rxwaveform/rms(rxwaveform)  \n",
    "\n",
    "    # Perform acquisition once from cold-start\n",
    "    if istep == 0:\n",
    "\n",
    "        # Acqusition doppler search space\n",
    "        fMin = -5000\n",
    "        fMax = 5000\n",
    "        fStep = 500\n",
    "        fSearch = np.arange(fMin, fMax+fStep, fStep)\n",
    "\n",
    "        tracker = []\n",
    "        satVis = 0\n",
    "        \n",
    "        # Perform acquisition for each satellite\n",
    "        for prnId in satId:\n",
    "            status, codePhase, doppler = navs.navic_pcps_acquisition(\n",
    "                                            waveform, \n",
    "                                            codeTable[np.arange(0, samplePerStep)%codeTableSampCnt, prnId-1], \n",
    "                                            sampleRate, \n",
    "                                            fSearch\n",
    "                                        )   \n",
    "            delaySamp = codePhase\n",
    "            codePhase = (codePhase % codeTableSampCnt)/(sampleRate/codeFreqBasis)\n",
    "\n",
    "            print(f\"Acquisition results for PRN ID {prnId}\\n Status:{status} Doppler:{doppler} Delay/Code-Phase:{delaySamp}/{codePhase}\")\n",
    "\n",
    "            # If a satellite is visible, initialize tracking loop\n",
    "            if(status == True):\n",
    "                satVis += 1\n",
    "\n",
    "                tracker.append(navs.NavicTracker())\n",
    "                tracker[-1].SampleRate = sampleRate\n",
    "                tracker[-1].CenterFrequency = 0\n",
    "                tracker[-1].PLLNoiseBandwidth = PLLNoiseBandwidth\n",
    "                tracker[-1].FLLNoiseBandwidth = FLLNoiseBandwidth\n",
    "                tracker[-1].DLLNoiseBandwidth = DLLNoiseBandwidth\n",
    "                tracker[-1].PLLIntegrationTime = round(PLLIntegrationTime*1e3)\n",
    "                tracker[-1].PRNID = prnId\n",
    "                tracker[-1].InitialDopplerShift = doppler\n",
    "                tracker[-1].InitialCodePhaseOffset = codePhase\n",
    "                tracker[-1].setupImpl()\n",
    "                tracker[-1].resetImpl()\n",
    "\n",
    "            trackDataShape = (numSteps*round(PLLIntegrationTime*1e3), satVis)\n",
    "            y = np.empty(trackDataShape, dtype=np.complex_)\n",
    "            fqyerr = np.empty(trackDataShape)\n",
    "            fqynco = np.empty(trackDataShape)\n",
    "            pherr = np.empty(trackDataShape)\n",
    "            phnco = np.empty(trackDataShape)\n",
    "            delayerr = np.empty(trackDataShape)\n",
    "            delaynco = np.empty(trackDataShape)\n",
    "\n",
    "    # Perform tracking for visible satellites\n",
    "    for i in range(satVis):\n",
    "      y[istep, i], fqyerr[istep, i], fqynco[istep, i], pherr[istep, i], phnco[istep, i], delayerr[istep, i], delaynco[istep, i] = tracker[i].stepImpl(waveform)\n",
    "\n",
    "print(len(y))"
   ]
  },
  {
   "attachments": {},
   "cell_type": "markdown",
   "metadata": {},
   "source": [
    "## Bit and Frame Synchronization"
   ]
  },
  {
   "cell_type": "code",
   "execution_count": null,
   "metadata": {},
   "outputs": [
    {
     "ename": "TypeError",
     "evalue": "cannot unpack non-iterable numpy.uint16 object",
     "output_type": "error",
     "traceback": [
      "\u001b[0;31m---------------------------------------------------------------------------\u001b[0m",
      "\u001b[0;31mTypeError\u001b[0m                                 Traceback (most recent call last)",
      "\u001b[1;32m/home/mannava/gvv/navic/codes/e2e_sim/main.ipynb Cell 11\u001b[0m line \u001b[0;36m5\n\u001b[1;32m      <a href='vscode-notebook-cell:/home/mannava/gvv/navic/codes/e2e_sim/main.ipynb#X13sZmlsZQ%3D%3D?line=2'>3</a>\u001b[0m skip \u001b[39m=\u001b[39m \u001b[39m2\u001b[39m \u001b[39m#Forgo few bits as the tracking loops starts early\u001b[39;00m\n\u001b[1;32m      <a href='vscode-notebook-cell:/home/mannava/gvv/navic/codes/e2e_sim/main.ipynb#X13sZmlsZQ%3D%3D?line=3'>4</a>\u001b[0m k \u001b[39m=\u001b[39m np\u001b[39m.\u001b[39mimag(y[n\u001b[39m*\u001b[39mskip:,i])\n\u001b[0;32m----> <a href='vscode-notebook-cell:/home/mannava/gvv/navic/codes/e2e_sim/main.ipynb#X13sZmlsZQ%3D%3D?line=4'>5</a>\u001b[0m sync_index, num_tr \u001b[39m=\u001b[39m navs\u001b[39m.\u001b[39mgnss_bit_synchronize(k, n)\n\u001b[1;32m      <a href='vscode-notebook-cell:/home/mannava/gvv/navic/codes/e2e_sim/main.ipynb#X13sZmlsZQ%3D%3D?line=5'>6</a>\u001b[0m \u001b[39mprint\u001b[39m(\u001b[39m\"\u001b[39m\u001b[39mSynchronization index:\u001b[39m\u001b[39m\"\u001b[39m, sync_index)\n\u001b[1;32m      <a href='vscode-notebook-cell:/home/mannava/gvv/navic/codes/e2e_sim/main.ipynb#X13sZmlsZQ%3D%3D?line=7'>8</a>\u001b[0m l \u001b[39m=\u001b[39m np\u001b[39m.\u001b[39mmean(k[sync_index:(((\u001b[39mlen\u001b[39m(k)\u001b[39m-\u001b[39msync_index)\u001b[39m/\u001b[39m\u001b[39m/\u001b[39mn) \u001b[39m*\u001b[39m n) \u001b[39m+\u001b[39m sync_index]\u001b[39m.\u001b[39mreshape(\u001b[39m-\u001b[39m\u001b[39m1\u001b[39m,n)\u001b[39m.\u001b[39mT, axis\u001b[39m=\u001b[39m\u001b[39m0\u001b[39m)\n",
      "\u001b[0;31mTypeError\u001b[0m: cannot unpack non-iterable numpy.uint16 object"
     ]
    }
   ],
   "source": [
    "for i in range(satVis):\n",
    "    plt.subplot(7, 1, 1)\n",
    "    plt.plot(fqyerr[:, i])\n",
    "    plt.xlabel('time')\n",
    "    plt.ylabel('Fqy Error')\n",
    "\n",
    "    plt.subplot(7, 1, 2)\n",
    "    plt.plot(fqynco[:, i])\n",
    "    plt.xlabel('time')\n",
    "    plt.ylabel('Fqy NCO')\n",
    "\n",
    "    plt.subplot(7, 1, 3)\n",
    "    plt.plot(pherr[:, i])\n",
    "    plt.xlabel('time')\n",
    "    plt.ylabel('Phase Error')\n",
    "\n",
    "    plt.subplot(7, 1, 4)\n",
    "    plt.plot(phnco[:, i])\n",
    "    plt.xlabel('time')\n",
    "    plt.ylabel('Phase NCO')\n",
    "\n",
    "    plt.subplot(7, 1, 5)\n",
    "    plt.plot(delayerr[:, i])\n",
    "    plt.xlabel('time')\n",
    "    plt.ylabel('Delay Error')\n",
    "\n",
    "    plt.subplot(7, 1, 6)\n",
    "    plt.plot(delaynco[:, i])\n",
    "    plt.xlabel('time')\n",
    "    plt.ylabel('Delay NCO')\n",
    "\n",
    "    plt.subplot(7, 1, 7)\n",
    "    plt.plot(np.imag(y[:, i]))\n",
    "    plt.xlabel('time')\n",
    "    plt.ylabel('Delay NCO')\n",
    "    plt.show()\n",
    "\n",
    "\n",
    "for i in range(satVis):\n",
    "    n = 20 #Number of data per bit\n",
    "    skip = 2 #Forgo few bits as the tracking loops starts early\n",
    "    k = np.imag(y[n*skip:,i])\n",
    "    sync_index, num_tr = navs.gnss_bit_synchronize(k, n)\n",
    "    print(\"Synchronization index:\", sync_index)\n",
    "\n",
    "    l = np.mean(k[sync_index:(((len(k)-sync_index)//n) * n) + sync_index].reshape(-1,n).T, axis=0)\n",
    "    mapbits = lambda l: np.piecewise(l, [l < 0, l >= 0], [1, 0])\n",
    "    bits = mapbits(l)\n",
    "    status, fsync_index = navs.find_sync_word(bits)\n",
    "\n",
    "    print(\"Frame Sync status:\", status)\n",
    "    print(\"Frame Sync:\", fsync_index)\n",
    "    if status == -1:\n",
    "        bits = 1*np.logical_not(bits)\n",
    "    \n",
    "    sync_frames = bits[fsync_index:]\n",
    "    num_sf = len(sync_frames)//600\n",
    "    check = navs.decoder(sync_frames[0:num_sf*600].reshape(-1,600),num_sf).reshape(-1,286)\n",
    "    navbits = datagen.GetBitStream()[292:292+num_sf*292,i].reshape(-1,292)\n",
    "    for j in range(num_sf):\n",
    "        if(np.array_equal(check[j], navbits[j,:-6])):\n",
    "            print(\"Equal\")\n",
    "        else:\n",
    "            print(\"Not Equal\")"
   ]
  }
 ],
 "metadata": {
  "kernelspec": {
   "display_name": "Python 3",
   "language": "python",
   "name": "python3"
  },
  "language_info": {
   "codemirror_mode": {
    "name": "ipython",
    "version": 3
   },
   "file_extension": ".py",
   "mimetype": "text/x-python",
   "name": "python",
   "nbconvert_exporter": "python",
   "pygments_lexer": "ipython3",
   "version": "3.10.12"
  },
  "orig_nbformat": 4,
  "vscode": {
   "interpreter": {
    "hash": "916dbcbb3f70747c44a77c7bcd40155683ae19c65e1c03b4aa3499c5328201f1"
   }
  }
 },
 "nbformat": 4,
 "nbformat_minor": 2
}
