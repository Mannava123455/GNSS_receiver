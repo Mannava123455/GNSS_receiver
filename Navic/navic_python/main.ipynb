{
 "cells": [
  {
   "cell_type": "code",
   "execution_count": 1,
   "metadata": {},
   "outputs": [],
   "source": [
    "import numpy as np\n",
    "import scipy.constants as sciconst\n",
    "import matplotlib.pyplot as plt\n",
    "import navicsim as navs\n"
   ]
  },
  {
   "attachments": {},
   "cell_type": "markdown",
   "metadata": {},
   "source": [
    "## Simulation constants "
   ]
  },
  {
   "cell_type": "code",
   "execution_count": 2,
   "metadata": {},
   "outputs": [],
   "source": [
    "codeFreqBasis = 1.023e6\n",
    "sampleRate = 10*codeFreqBasis\n",
    "samplePeriod = 1/sampleRate\n",
    "\n",
    "simDuration = 10 #48 sec for 2400 symbols #in Seconds\n",
    "timeStep = 1e-3\n",
    "numSteps = round(simDuration/timeStep)\n",
    "samplePerStep = int(timeStep/samplePeriod)\n",
    "\n",
    "codeTable = navs.genNavicCaTable(sampleRate)\n",
    "codeTableSampCnt = len(codeTable)\n",
    "satId = np.array([5, 7, 3, 1])\n",
    "numChannel = len(satId)"
   ]
  },
  {
   "cell_type": "code",
   "execution_count": 3,
   "metadata": {},
   "outputs": [],
   "source": [
    "c = sciconst.speed_of_light\n",
    "fe = 1176.45e6;              \n",
    "Dt = 12;                     \n",
    "DtLin = 10*np.log10(Dt)\n",
    "Dr = 4;                      \n",
    "DrLin = 10*np.log10(Dr)\n",
    "Pt = 44.8;                   \n",
    "k = sciconst.Boltzmann;  \n",
    "T = 315;                     \n",
    "rxBW = 40e6;                 \n",
    "Nr = k*T*rxBW;               "
   ]
  },
  {
   "cell_type": "code",
   "execution_count": 4,
   "metadata": {},
   "outputs": [],
   "source": [
    "PLLIntegrationTime = 1e-3\n",
    "PLLNoiseBandwidth = 90 # In Hz\n",
    "FLLNoiseBandwidth = 4  # In Hz\n",
    "DLLNoiseBandwidth = 1  # In Hz"
   ]
  },
  {
   "attachments": {},
   "cell_type": "markdown",
   "metadata": {},
   "source": [
    "## Channel configuration"
   ]
  },
  {
   "cell_type": "code",
   "execution_count": 5,
   "metadata": {},
   "outputs": [],
   "source": [
    "fShift = np.array([3589, 2256, 1596, 2568])\n",
    "channelpfo = navs.PhaseFrequencyOffset(sampleRate)\n",
    "\n",
    "sigDelay = np.array([300.34, 587.21, 425.89, 312.88])\n",
    "dynamicDelayRange = 50\n",
    "staticDelay = np.round(sigDelay - dynamicDelayRange)\n",
    "channelstatd = navs.IntegerDelay(staticDelay)\n",
    "channelvard = navs.FractionalDelay(4, 65535)\n",
    "\n",
    "sqrtPr = np.sqrt(Pt*DtLin*DrLin)*(1/(4*np.pi*(fe+fShift)*sigDelay*samplePeriod))"
   ]
  },
  {
   "attachments": {},
   "cell_type": "markdown",
   "metadata": {},
   "source": [
    "## Run Simulation"
   ]
  },
  {
   "cell_type": "code",
   "execution_count": 6,
   "metadata": {},
   "outputs": [
    {
     "name": "stdout",
     "output_type": "stream",
     "text": [
      "Acquisition results fohttps://what-when-how.com/a-software-defined-gps-and-galileo-receiver/acquisition-gps-and-galileo-receiver-part-2/r PRN ID 5\n",
      " Status:True Doppler:3500 Delay/Code-Phase:300/30.0\n",
      "Acquisition results fohttps://what-when-how.com/a-software-defined-gps-and-galileo-receiver/acquisition-gps-and-galileo-receiver-part-2/r PRN ID 7\n",
      " Status:True Doppler:2000 Delay/Code-Phase:587/58.7\n",
      "Acquisition results fohttps://what-when-how.com/a-software-defined-gps-and-galileo-receiver/acquisition-gps-and-galileo-receiver-part-2/r PRN ID 3\n",
      " Status:True Doppler:1500 Delay/Code-Phase:426/42.6\n",
      "Acquisition results fohttps://what-when-how.com/a-software-defined-gps-and-galileo-receiver/acquisition-gps-and-galileo-receiver-part-2/r PRN ID 1\n",
      " Status:True Doppler:2500 Delay/Code-Phase:313/31.3\n"
     ]
    },
    {
     "ename": "KeyboardInterrupt",
     "evalue": "",
     "output_type": "error",
     "traceback": [
      "\u001b[0;31m---------------------------------------------------------------------------\u001b[0m",
      "\u001b[0;31mKeyboardInterrupt\u001b[0m                         Traceback (most recent call last)",
      "\u001b[1;32m/home/mannava/module_3/Navic/navic_python/main.ipynb Cell 9\u001b[0m line \u001b[0;36m1\n\u001b[1;32m     <a href='vscode-notebook-cell:/home/mannava/module_3/Navic/navic_python/main.ipynb#X11sZmlsZQ%3D%3D?line=16'>17</a>\u001b[0m staticDelayedSignal \u001b[39m=\u001b[39m channelstatd\u001b[39m.\u001b[39mDelay(doppsig)\n\u001b[1;32m     <a href='vscode-notebook-cell:/home/mannava/module_3/Navic/navic_python/main.ipynb#X11sZmlsZQ%3D%3D?line=17'>18</a>\u001b[0m leftoutDelay \u001b[39m=\u001b[39m sigDelay \u001b[39m-\u001b[39m staticDelay\n\u001b[0;32m---> <a href='vscode-notebook-cell:/home/mannava/module_3/Navic/navic_python/main.ipynb#X11sZmlsZQ%3D%3D?line=18'>19</a>\u001b[0m delayedSig \u001b[39m=\u001b[39m channelvard\u001b[39m.\u001b[39;49mDelay(staticDelayedSignal, leftoutDelay)\n\u001b[1;32m     <a href='vscode-notebook-cell:/home/mannava/module_3/Navic/navic_python/main.ipynb#X11sZmlsZQ%3D%3D?line=20'>21</a>\u001b[0m \u001b[39m# Power scaling\u001b[39;00m\n\u001b[1;32m     <a href='vscode-notebook-cell:/home/mannava/module_3/Navic/navic_python/main.ipynb#X11sZmlsZQ%3D%3D?line=21'>22</a>\u001b[0m scaledSig \u001b[39m=\u001b[39m navs\u001b[39m.\u001b[39mPowerScale(delayedSig, sqrtPr)\n",
      "File \u001b[0;32m~/module_3/Navic/navic_python/navicsim.py:509\u001b[0m, in \u001b[0;36mFractionalDelay.Delay\u001b[0;34m(self, x, D)\u001b[0m\n\u001b[1;32m    506\u001b[0m h \u001b[39m=\u001b[39m \u001b[39mself\u001b[39m\u001b[39m.\u001b[39mH\u001b[39m@np\u001b[39m\u001b[39m.\u001b[39marray([f\u001b[39m*\u001b[39m\u001b[39m*\u001b[39mi \u001b[39mfor\u001b[39;00m i \u001b[39min\u001b[39;00m \u001b[39mrange\u001b[39m(\u001b[39m0\u001b[39m, \u001b[39mself\u001b[39m\u001b[39m.\u001b[39mL)])\n\u001b[1;32m    507\u001b[0m \u001b[39mlen\u001b[39m \u001b[39m=\u001b[39m x\u001b[39m.\u001b[39mshape[\u001b[39m0\u001b[39m]\n\u001b[0;32m--> 509\u001b[0m temp \u001b[39m=\u001b[39m np\u001b[39m.\u001b[39;49mappend(\u001b[39mself\u001b[39;49m\u001b[39m.\u001b[39;49mD_buffer, x, axis\u001b[39m=\u001b[39;49m\u001b[39m0\u001b[39;49m)\n\u001b[1;32m    510\u001b[0m \u001b[39mself\u001b[39m\u001b[39m.\u001b[39mD_buffer \u001b[39m=\u001b[39m temp[\u001b[39m-\u001b[39m\u001b[39mself\u001b[39m\u001b[39m.\u001b[39mD_buffer\u001b[39m.\u001b[39mshape[\u001b[39m0\u001b[39m]:]\n\u001b[1;32m    512\u001b[0m beg \u001b[39m=\u001b[39m \u001b[39mself\u001b[39m\u001b[39m.\u001b[39mD_buffer\u001b[39m.\u001b[39mshape[\u001b[39m0\u001b[39m]\u001b[39m-\u001b[39mW\u001b[39m-\u001b[39m\u001b[39mself\u001b[39m\u001b[39m.\u001b[39mT\n",
      "File \u001b[0;32m<__array_function__ internals>:5\u001b[0m, in \u001b[0;36mappend\u001b[0;34m(*args, **kwargs)\u001b[0m\n",
      "File \u001b[0;32m/usr/lib/python3/dist-packages/numpy/lib/function_base.py:4817\u001b[0m, in \u001b[0;36mappend\u001b[0;34m(arr, values, axis)\u001b[0m\n\u001b[1;32m   4815\u001b[0m     values \u001b[39m=\u001b[39m ravel(values)\n\u001b[1;32m   4816\u001b[0m     axis \u001b[39m=\u001b[39m arr\u001b[39m.\u001b[39mndim\u001b[39m-\u001b[39m\u001b[39m1\u001b[39m\n\u001b[0;32m-> 4817\u001b[0m \u001b[39mreturn\u001b[39;00m concatenate((arr, values), axis\u001b[39m=\u001b[39;49maxis)\n",
      "File \u001b[0;32m<__array_function__ internals>:5\u001b[0m, in \u001b[0;36mconcatenate\u001b[0;34m(*args, **kwargs)\u001b[0m\n",
      "\u001b[0;31mKeyboardInterrupt\u001b[0m: "
     ]
    }
   ],
   "source": [
    "datagen = navs.NavicDataGen(50, sampleRate, numChannel)\n",
    "modulator = navs.NavicL5sModulator(sampleRate)\n",
    "\n",
    "rms = lambda x: np.sqrt(np.mean(np.abs(x)**2, axis=0)) \n",
    "\n",
    "for istep in range(numSteps):\n",
    "    \n",
    "    # Baseband modulation\n",
    "    navdata = datagen.GenerateBits(timeStep)\n",
    "    \n",
    "    iqsig = modulator.Modulate(navdata, codeTable[:, satId-1])\n",
    "\n",
    "    # Doppler shift\n",
    "    doppsig = channelpfo.Offset(iqsig, fShift)\n",
    "\n",
    "    # Delay\n",
    "    staticDelayedSignal = channelstatd.Delay(doppsig)\n",
    "    leftoutDelay = sigDelay - staticDelay\n",
    "    delayedSig = channelvard.Delay(staticDelayedSignal, leftoutDelay)\n",
    "\n",
    "    # Power scaling\n",
    "    scaledSig = navs.PowerScale(delayedSig, sqrtPr)\n",
    "\n",
    "    # Add signals from each channel\n",
    "    resultsig = np.sum(scaledSig, axis=1)\n",
    "\n",
    "    # Generate noise\n",
    "    noisesig = (np.random.normal(scale=Nr**0.5, size=(samplePerStep, )) + 1j*np.random.normal(scale=Nr**0.5, size=(samplePerStep, )))/2**0.5\n",
    "\n",
    "    # Add thermal noise to composite signal\n",
    "    rxwaveform = resultsig + noisesig\n",
    "\n",
    "    # Scale received signal to have unit power\n",
    "    waveform = rxwaveform/rms(rxwaveform)  \n",
    "\n",
    "    # Perform acquisition once from cold-start\n",
    "    if istep == 0:\n",
    "\n",
    "        # Acqusition doppler search space\n",
    "        fMin = -5000\n",
    "        fMax = 5000\n",
    "        fStep = 500\n",
    "        fSearch = np.arange(fMin, fMax+fStep, fStep)\n",
    "\n",
    "        tracker = []\n",
    "        satVis = 0\n",
    "        \n",
    "        # Perform acquisition for each satellite\n",
    "        for prnId in satId:\n",
    "            status, codePhase, doppler = navs.navic_pcps_acquisition(\n",
    "                                            waveform, \n",
    "                                            codeTable[np.arange(0, samplePerStep)%codeTableSampCnt, prnId-1], \n",
    "                                            sampleRate, \n",
    "                                            fSearch\n",
    "                                        )   \n",
    "            delaySamp = codePhase\n",
    "            codePhase = (codePhase % codeTableSampCnt)/(sampleRate/codeFreqBasis)\n",
    "\n",
    "            print(f\"Acquisition results fohttps://what-when-how.com/a-software-defined-gps-and-galileo-receiver/acquisition-gps-and-galileo-receiver-part-2/r PRN ID {prnId}\\n Status:{status} Doppler:{doppler} Delay/Code-Phase:{delaySamp}/{codePhase}\")\n",
    "\n",
    "            # If a satellite is visible, initialize tracking loop\n",
    "            if(status == True):\n",
    "                satVis += 1\n",
    "\n",
    "                tracker.append(navs.NavicTracker())\n",
    "                tracker[-1].SampleRate = sampleRate\n",
    "                tracker[-1].CenterFrequency = 0\n",
    "                tracker[-1].PLLNoiseBandwidth = PLLNoiseBandwidth\n",
    "                tracker[-1].FLLNoiseBandwidth = FLLNoiseBandwidth\n",
    "                tracker[-1].DLLNoiseBandwidth = DLLNoiseBandwidth\n",
    "                tracker[-1].PLLIntegrationTime = round(PLLIntegrationTime*1e3)\n",
    "                tracker[-1].PRNID = prnId\n",
    "                tracker[-1].InitialDopplerShift = doppler\n",
    "                tracker[-1].InitialCodePhaseOffset = codePhase\n",
    "                tracker[-1].setupImpl()\n",
    "                tracker[-1].resetImpl()\n",
    "\n",
    "            trackDataShape = (numSteps*round(PLLIntegrationTime*1e3), satVis)\n",
    "            y = np.empty(trackDataShape, dtype=np.complex_)\n",
    "            fqyerr = np.empty(trackDataShape)\n",
    "            fqynco = np.empty(trackDataShape)\n",
    "            pherr = np.empty(trackDataShape)\n",
    "            phnco = np.empty(trackDataShape)\n",
    "            delayerr = np.empty(trackDataShape)\n",
    "            delaynco = np.empty(trackDataShape)\n",
    "\n",
    "    # Perform tracking for visible satellites\n",
    "    for i in range(satVis):\n",
    "      y[istep, i], fqyerr[istep, i], fqynco[istep, i], pherr[istep, i], phnco[istep, i], delayerr[istep, i], delaynco[istep, i] = tracker[i].stepImpl(waveform)\n",
    "\n",
    "fs = 10*1.023e6\n",
    "T = 1e-3\n",
    "N = int(fs * T)\n",
    "t = np.linspace(0.0, T, N, endpoint=False)\n",
    "f = 5.0\n",
    "signal = waveform[0:10230]\n",
    "frequencies, psd = plt.psd(np.abs(signal) ** 2, NFFT=N, Fs=fs, window=np.hanning(N))\n",
    "psd = 10 * np.log10(psd)\n",
    "plt.plot(frequencies, psd)\n",
    "\n",
    "plt.subplot(6,1,1)\n",
    "plt.plot(fqyerr[:,i])\n",
    "#plt.ylim([0,0.05])\n",
    "plt.xlabel('time') ; plt.ylabel('Fqy Error')\n",
    "    \n",
    "plt.subplot(6,1,2)\n",
    "plt.plot(fqynco[:,i])\n",
    "#plt.ylim([0,0.05])\n",
    "plt.xlabel('time') ; plt.ylabel('Fqy NCO')\n",
    "\n",
    "plt.subplot(6,1,3)\n",
    "plt.plot(pherr[:,i])\n",
    "#plt.ylim([0,0.05])\n",
    "plt.xlabel('time') ; plt.ylabel('Phase Error')\n",
    "\n",
    "plt.subplot(6,1,4)\n",
    "plt.plot(phnco[:,i])\n",
    "#plt.ylim([0,0.05])\n",
    "plt.xlabel('time') ; plt.ylabel('Phase NCO')\n",
    "\n",
    "plt.subplot(6,1,5)\n",
    "plt.plot(delayerr[:,i])\n",
    "#plt.ylim([0,0.05])\n",
    "plt.xlabel('time') ; plt.ylabel('Delay Error')\n",
    "    \n",
    "plt.subplot(6,1,6)\n",
    "plt.plot(delaynco[:,i])\n",
    "#plt.ylim([0,0.05])\n",
    "plt.xlabel('time') ; plt.ylabel('Delay NCO')\n",
    "    \n",
    "\n"
   ]
  },
  {
   "attachments": {},
   "cell_type": "markdown",
   "metadata": {},
   "source": [
    "## Bit and Frame Synchronization"
   ]
  },
  {
   "cell_type": "code",
   "execution_count": null,
   "metadata": {},
   "outputs": [
    {
     "ename": "TypeError",
     "evalue": "cannot unpack non-iterable numpy.uint16 object",
     "output_type": "error",
     "traceback": [
      "\u001b[0;31m---------------------------------------------------------------------------\u001b[0m",
      "\u001b[0;31mTypeError\u001b[0m                                 Traceback (most recent call last)",
      "\u001b[1;32m/home/mannava/module_3/Navic/navic_python/main.ipynb Cell 11\u001b[0m line \u001b[0;36m5\n\u001b[1;32m      <a href='vscode-notebook-cell:/home/mannava/module_3/Navic/navic_python/main.ipynb#X13sZmlsZQ%3D%3D?line=2'>3</a>\u001b[0m skip \u001b[39m=\u001b[39m \u001b[39m2\u001b[39m \u001b[39m#Forgo few bits as the tracking loops starts early\u001b[39;00m\n\u001b[1;32m      <a href='vscode-notebook-cell:/home/mannava/module_3/Navic/navic_python/main.ipynb#X13sZmlsZQ%3D%3D?line=3'>4</a>\u001b[0m k \u001b[39m=\u001b[39m np\u001b[39m.\u001b[39mimag(y[n\u001b[39m*\u001b[39mskip:,i])\n\u001b[0;32m----> <a href='vscode-notebook-cell:/home/mannava/module_3/Navic/navic_python/main.ipynb#X13sZmlsZQ%3D%3D?line=4'>5</a>\u001b[0m sync_index, num_tr \u001b[39m=\u001b[39m navs\u001b[39m.\u001b[39mgnss_bit_synchronize(k, n)\n\u001b[1;32m      <a href='vscode-notebook-cell:/home/mannava/module_3/Navic/navic_python/main.ipynb#X13sZmlsZQ%3D%3D?line=5'>6</a>\u001b[0m \u001b[39mprint\u001b[39m(\u001b[39m\"\u001b[39m\u001b[39mSynchronization index:\u001b[39m\u001b[39m\"\u001b[39m, sync_index)\n\u001b[1;32m      <a href='vscode-notebook-cell:/home/mannava/module_3/Navic/navic_python/main.ipynb#X13sZmlsZQ%3D%3D?line=7'>8</a>\u001b[0m l \u001b[39m=\u001b[39m np\u001b[39m.\u001b[39mmean(k[sync_index:(((\u001b[39mlen\u001b[39m(k)\u001b[39m-\u001b[39msync_index)\u001b[39m/\u001b[39m\u001b[39m/\u001b[39mn) \u001b[39m*\u001b[39m n) \u001b[39m+\u001b[39m sync_index]\u001b[39m.\u001b[39mreshape(\u001b[39m-\u001b[39m\u001b[39m1\u001b[39m,n)\u001b[39m.\u001b[39mT, axis\u001b[39m=\u001b[39m\u001b[39m0\u001b[39m)\n",
      "\u001b[0;31mTypeError\u001b[0m: cannot unpack non-iterable numpy.uint16 object"
     ]
    }
   ],
   "source": [
    "for i in range(satVis):\n",
    "    n = 20 #Number of data per bit\n",
    "    skip = 2 #Forgo few bits as the tracking loops starts early\n",
    "    k = np.imag(y[n*skip:,i])\n",
    "    sync_index, num_tr = navs.gnss_bit_synchronize(k, n)\n",
    "    print(\"Synchronization index:\", sync_index)\n",
    "\n",
    "    l = np.mean(k[sync_index:(((len(k)-sync_index)//n) * n) + sync_index].reshape(-1,n).T, axis=0)\n",
    "    mapbits = lambda l: np.piecewise(l, [l < 0, l >= 0], [1, 0])\n",
    "    bits = mapbits(l)\n",
    "    status, fsync_index = navs.find_sync_word(bits)\n",
    "\n",
    "    print(\"Frame Sync status:\", status)\n",
    "    print(\"Frame Sync:\", fsync_index)\n",
    "    if status == -1:\n",
    "        bits = 1*np.logical_not(bits)\n",
    "    \n",
    "    sync_frames = bits[fsync_index:]\n",
    "    num_sf = len(sync_frames)//600\n",
    "    check = navs.decoder(sync_frames[0:num_sf*600].reshape(-1,600),num_sf).reshape(-1,286)\n",
    "    navbits = datagen.GetBitStream()[292:292+num_sf*292,i].reshape(-1,292)\n",
    "    for j in range(num_sf):\n",
    "        if(np.array_equal(check[j], navbits[j,:-6])):\n",
    "            print(\"Equal\")\n",
    "        else:\n",
    "            print(\"Not Equal\")"
   ]
  }
 ],
 "metadata": {
  "kernelspec": {
   "display_name": "Python 3",
   "language": "python",
   "name": "python3"
  },
  "language_info": {
   "codemirror_mode": {
    "name": "ipython",
    "version": 3
   },
   "file_extension": ".py",
   "mimetype": "text/x-python",
   "name": "python",
   "nbconvert_exporter": "python",
   "pygments_lexer": "ipython3",
   "version": "3.10.12"
  },
  "orig_nbformat": 4,
  "vscode": {
   "interpreter": {
    "hash": "916dbcbb3f70747c44a77c7bcd40155683ae19c65e1c03b4aa3499c5328201f1"
   }
  }
 },
 "nbformat": 4,
 "nbformat_minor": 2
}
